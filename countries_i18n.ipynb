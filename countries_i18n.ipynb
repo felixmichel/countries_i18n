{
 "cells": [
  {
   "cell_type": "code",
   "execution_count": 1,
   "metadata": {
    "collapsed": true
   },
   "outputs": [],
   "source": [
    "%matplotlib inline\n",
    "\n",
    "from IPython.core.interactiveshell import InteractiveShell\n",
    "from datetime import datetime\n",
    "\n",
    "#get data from worldbank\n",
    "from pandas_datareader import wb\n",
    "\n",
    "import glob\n",
    "import os\n",
    "import pandas as pd\n",
    "import numpy as np\n",
    "import seaborn as sns\n",
    "import matplotlib\n",
    "import json\n",
    "import matplotlib.pyplot as plt\n",
    "\n",
    "InteractiveShell.ast_node_interactivity = \"all\"\n",
    "pd.options.display.max_rows = 200\n",
    "#matplotlib.rcParams['svg.fonttype'] = 'none'\n",
    "\n",
    "from country_bounding_boxes import *"
   ]
  },
  {
   "cell_type": "code",
   "execution_count": 7,
   "metadata": {
    "collapsed": false
   },
   "outputs": [
    {
     "data": {
      "text/html": [
       "<div>\n",
       "<table border=\"1\" class=\"dataframe\">\n",
       "  <thead>\n",
       "    <tr style=\"text-align: right;\">\n",
       "      <th></th>\n",
       "      <th>iso3-code</th>\n",
       "    </tr>\n",
       "  </thead>\n",
       "  <tbody>\n",
       "    <tr>\n",
       "      <th>0</th>\n",
       "      <td>FRA</td>\n",
       "    </tr>\n",
       "    <tr>\n",
       "      <th>1</th>\n",
       "      <td>GBR</td>\n",
       "    </tr>\n",
       "    <tr>\n",
       "      <th>2</th>\n",
       "      <td>DEU</td>\n",
       "    </tr>\n",
       "    <tr>\n",
       "      <th>3</th>\n",
       "      <td>NLD</td>\n",
       "    </tr>\n",
       "    <tr>\n",
       "      <th>4</th>\n",
       "      <td>USA</td>\n",
       "    </tr>\n",
       "  </tbody>\n",
       "</table>\n",
       "</div>"
      ],
      "text/plain": [
       "  iso3-code\n",
       "0       FRA\n",
       "1       GBR\n",
       "2       DEU\n",
       "3       NLD\n",
       "4       USA"
      ]
     },
     "execution_count": 7,
     "metadata": {},
     "output_type": "execute_result"
    }
   ],
   "source": [
    "countries = pd.read_csv('../sea level/context_data/sealevel_viz_psmsl_1985_2015.csv', usecols=[7])\n",
    "\n",
    "countries = countries.drop_duplicates()\n",
    "\n",
    "countries.rename(columns={'country': 'iso3-code'}, inplace=True)\n",
    "\n",
    "countries = countries.reset_index()\n",
    "\n",
    "countries = countries.drop('index', 1)\n",
    "\n",
    "countries.head()"
   ]
  },
  {
   "cell_type": "code",
   "execution_count": 8,
   "metadata": {
    "collapsed": false
   },
   "outputs": [
    {
     "data": {
      "text/html": [
       "<div>\n",
       "<table border=\"1\" class=\"dataframe\">\n",
       "  <thead>\n",
       "    <tr style=\"text-align: right;\">\n",
       "      <th></th>\n",
       "      <th>iso3-code</th>\n",
       "    </tr>\n",
       "  </thead>\n",
       "  <tbody>\n",
       "    <tr>\n",
       "      <th>count</th>\n",
       "      <td>58</td>\n",
       "    </tr>\n",
       "    <tr>\n",
       "      <th>unique</th>\n",
       "      <td>58</td>\n",
       "    </tr>\n",
       "    <tr>\n",
       "      <th>top</th>\n",
       "      <td>IND</td>\n",
       "    </tr>\n",
       "    <tr>\n",
       "      <th>freq</th>\n",
       "      <td>1</td>\n",
       "    </tr>\n",
       "  </tbody>\n",
       "</table>\n",
       "</div>"
      ],
      "text/plain": [
       "       iso3-code\n",
       "count         58\n",
       "unique        58\n",
       "top          IND\n",
       "freq           1"
      ]
     },
     "execution_count": 8,
     "metadata": {},
     "output_type": "execute_result"
    }
   ],
   "source": [
    "countries.describe()"
   ]
  },
  {
   "cell_type": "code",
   "execution_count": 30,
   "metadata": {
    "collapsed": false
   },
   "outputs": [],
   "source": [
    "#parse file\n",
    "\n",
    "def get_country_box(iso_code):\n",
    "    countries = pd.DataFrame(columns=['iso3-code', 'name', 'box'])\n",
    "    country_box = [c.bbox for c in country_subunits_by_iso_code(iso_code)]\n",
    "    country_name = [c.name for c in country_subunits_by_iso_code(iso_code)]\n",
    "    countries['box'] = country_box\n",
    "    countries['name'] = country_name\n",
    "    countries['iso3-code'] = iso_code\n",
    "    \n",
    "    return countries\n",
    "\n",
    "\n",
    "df = pd.concat([get_country_box(iso_code) for iso_code in countries['iso3-code']])\n"
   ]
  },
  {
   "cell_type": "code",
   "execution_count": 31,
   "metadata": {
    "collapsed": false
   },
   "outputs": [
    {
     "data": {
      "text/html": [
       "<div>\n",
       "<table border=\"1\" class=\"dataframe\">\n",
       "  <thead>\n",
       "    <tr style=\"text-align: right;\">\n",
       "      <th></th>\n",
       "      <th>iso3-code</th>\n",
       "      <th>name</th>\n",
       "      <th>box</th>\n",
       "      <th>lon1</th>\n",
       "      <th>lat1</th>\n",
       "      <th>lon2</th>\n",
       "      <th>lat2</th>\n",
       "    </tr>\n",
       "  </thead>\n",
       "  <tbody>\n",
       "    <tr>\n",
       "      <th>0</th>\n",
       "      <td>FRA</td>\n",
       "      <td>France</td>\n",
       "      <td>(-4.7625, 42.3404785156, 8.14033203125, 51.097...</td>\n",
       "      <td>-4.762500</td>\n",
       "      <td>42.340479</td>\n",
       "      <td>8.140332</td>\n",
       "      <td>51.097119</td>\n",
       "    </tr>\n",
       "    <tr>\n",
       "      <th>1</th>\n",
       "      <td>FRA</td>\n",
       "      <td>Corsica</td>\n",
       "      <td>(8.565625, 41.3849121094, 9.5564453125, 43.021...</td>\n",
       "      <td>8.565625</td>\n",
       "      <td>41.384912</td>\n",
       "      <td>9.556445</td>\n",
       "      <td>43.021484</td>\n",
       "    </tr>\n",
       "    <tr>\n",
       "      <th>0</th>\n",
       "      <td>GBR</td>\n",
       "      <td>Scotland</td>\n",
       "      <td>(-7.54296875, 54.689453125, -0.774267578125, 6...</td>\n",
       "      <td>-7.542969</td>\n",
       "      <td>54.689453</td>\n",
       "      <td>-0.774268</td>\n",
       "      <td>60.831885</td>\n",
       "    </tr>\n",
       "    <tr>\n",
       "      <th>1</th>\n",
       "      <td>GBR</td>\n",
       "      <td>England</td>\n",
       "      <td>(-5.65625, 50.0213867188, 1.74658203125, 55.80...</td>\n",
       "      <td>-5.656250</td>\n",
       "      <td>50.021387</td>\n",
       "      <td>1.746582</td>\n",
       "      <td>55.807959</td>\n",
       "    </tr>\n",
       "    <tr>\n",
       "      <th>2</th>\n",
       "      <td>GBR</td>\n",
       "      <td>N. Ireland</td>\n",
       "      <td>(-8.14482421875, 54.0512695312, -5.47041015625...</td>\n",
       "      <td>-8.144824</td>\n",
       "      <td>54.051270</td>\n",
       "      <td>-5.470410</td>\n",
       "      <td>55.241797</td>\n",
       "    </tr>\n",
       "  </tbody>\n",
       "</table>\n",
       "</div>"
      ],
      "text/plain": [
       "  iso3-code        name                                                box  \\\n",
       "0       FRA      France  (-4.7625, 42.3404785156, 8.14033203125, 51.097...   \n",
       "1       FRA     Corsica  (8.565625, 41.3849121094, 9.5564453125, 43.021...   \n",
       "0       GBR    Scotland  (-7.54296875, 54.689453125, -0.774267578125, 6...   \n",
       "1       GBR     England  (-5.65625, 50.0213867188, 1.74658203125, 55.80...   \n",
       "2       GBR  N. Ireland  (-8.14482421875, 54.0512695312, -5.47041015625...   \n",
       "\n",
       "       lon1       lat1      lon2       lat2  \n",
       "0 -4.762500  42.340479  8.140332  51.097119  \n",
       "1  8.565625  41.384912  9.556445  43.021484  \n",
       "0 -7.542969  54.689453 -0.774268  60.831885  \n",
       "1 -5.656250  50.021387  1.746582  55.807959  \n",
       "2 -8.144824  54.051270 -5.470410  55.241797  "
      ]
     },
     "execution_count": 31,
     "metadata": {},
     "output_type": "execute_result"
    }
   ],
   "source": [
    "df['lon1'], df['lat1'], df['lon2'], df['lat2'] = zip(*df.box)\n",
    "\n",
    "df.head()"
   ]
  },
  {
   "cell_type": "code",
   "execution_count": 33,
   "metadata": {
    "collapsed": false
   },
   "outputs": [],
   "source": [
    "df.to_csv('country_bounding_boxes.csv')"
   ]
  }
 ],
 "metadata": {
  "kernelspec": {
   "display_name": "Python 3",
   "language": "python",
   "name": "python3"
  },
  "language_info": {
   "codemirror_mode": {
    "name": "ipython",
    "version": 3
   },
   "file_extension": ".py",
   "mimetype": "text/x-python",
   "name": "python",
   "nbconvert_exporter": "python",
   "pygments_lexer": "ipython3",
   "version": "3.5.0"
  }
 },
 "nbformat": 4,
 "nbformat_minor": 1
}
